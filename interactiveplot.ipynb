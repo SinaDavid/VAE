{
 "cells": [
  {
   "cell_type": "code",
   "execution_count": 78,
   "id": "de97283d",
   "metadata": {
    "scrolled": true
   },
   "outputs": [
    {
     "name": "stdout",
     "output_type": "stream",
     "text": [
      "           xx         yy        zz            label\n",
      "0     12.3271  23.153200 -16.34080           Stroke\n",
      "1     12.8534  27.318400 -12.08290           Stroke\n",
      "2     14.3891  33.286200  -7.02115           Stroke\n",
      "3     21.1900  35.809200  -1.20131           Stroke\n",
      "4     11.8092  32.658000 -12.00050           Stroke\n",
      "...       ...        ...       ...              ...\n",
      "2295 -18.8247   7.803810 -37.84550  healthy control\n",
      "2296 -19.5313  10.027700 -38.86300  healthy control\n",
      "2297 -19.1680   6.626660 -39.12840  healthy control\n",
      "2298 -15.8459  -2.910840 -38.19780  healthy control\n",
      "2299 -16.0060  -0.768851 -37.62700  healthy control\n",
      "\n",
      "[2300 rows x 4 columns]\n"
     ]
    }
   ],
   "source": [
    "%matplotlib widget\n",
    "\n",
    "import pandas as pd\n",
    "import matplotlib.pyplot as plt\n",
    "import requests\n",
    "\n",
    "url = \"https://raw.githubusercontent.com/SinaDavid/VAE/main/LatentFeatures.csv\"\n",
    "df = pd.read_csv(url)\n",
    "\n",
    "\n",
    "z=df\n",
    "for x in range(len(df['label'])):\n",
    "    if df['label'][x]=='Stroke': z['label'][x]='red' \n",
    "    elif df['label'][x]=='healthy control': z['label'][x]='blue'\n",
    "\n",
    "\n",
    "df = pd.read_csv(url)\n",
    "\n",
    "\n",
    "fig = plt.figure()\n",
    "ax1 = fig.add_subplot(111, projection='3d')\n",
    "# plt = fig.add_subplot(projection='3d')\n",
    "ax1.scatter(df['xx'], df['yy'], df['zz'], c=z['label'],label=df['label'],edgecolors='white')\n",
    "# plt.title('3D Variational autoencoder / decoder')\n",
    "ax1.set_xlabel('Latent feature 1')\n",
    "ax1.set_ylabel('Latent feature 2')\n",
    "ax1.set_zlabel('Latent feature 3')\n",
    "ax1.legend(df['label'])\n"
   ]
  }
 ],
 "metadata": {
  "kernelspec": {
   "display_name": "Python 3 (ipykernel)",
   "language": "python",
   "name": "python3"
  },
  "language_info": {
   "codemirror_mode": {
    "name": "ipython",
    "version": 3
   },
   "file_extension": ".py",
   "mimetype": "text/x-python",
   "name": "python",
   "nbconvert_exporter": "python",
   "pygments_lexer": "ipython3",
   "version": "3.9.13"
  }
 },
 "nbformat": 4,
 "nbformat_minor": 5
}
