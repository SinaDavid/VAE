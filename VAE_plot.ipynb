%matplotlib widget

import pandas as pd
import matplotlib.pyplot as plt
import requests

url = "https://raw.githubusercontent.com/SinaDavid/VAE/main/LatentFeatures.csv"
df = pd.read_csv(url)


z=df
for x in range(len(df['label'])):
    if df['label'][x]=='Stroke': z['label'][x]='red' 
    elif df['label'][x]=='healthy control': z['label'][x]='blue'


df = pd.read_csv(url)


fig = plt.figure()
ax1 = fig.add_subplot(111, projection='3d')
# plt = fig.add_subplot(projection='3d')
ax1.scatter(df['xx'], df['yy'], df['zz'], c=z['label'],label=df['label'],edgecolors='white')
# plt.title('3D Variational autoencoder / decoder')
ax1.set_xlabel('Latent feature 1')
ax1.set_ylabel('Latent feature 2')
ax1.set_zlabel('Latent feature 3')
ax1.legend(df['label'])
